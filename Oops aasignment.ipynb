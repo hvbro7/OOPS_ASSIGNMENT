{
 "cells": [
  {
   "cell_type": "code",
   "execution_count": 1,
   "metadata": {},
   "outputs": [
    {
     "data": {
      "text/plain": [
       "'ANS      \\n      The five key concepts of Object-Oriented Programming (OOP) are:\\n      1. Encapsulation: This is the bundling of data (attributes) and methods (functions) that operate on the data\\n       into a single unit or class.\\n      2. Abstraction: Abstraction involves simplifying complex systems by modeling classes based on essential\\n       properties and behaviors while hiding unnecessary details.\\n      3. Inheritance: Inheritance allows one class (the child or subclass) to inherit properties and behaviors\\n       from another class (the parent or superclass). This promotes code reusability and establishes a \\n       hierarchical relationship between classes. \\n      4. Polymorphism: Polymorphism enables objects of different classes to be treated as objects of a common superclass.\\n      5. Composition: Composition is a design principle where a class is composed of one or more objects from other classes,\\n       allowing for a flexible and modular approach to building complex systems. '"
      ]
     },
     "execution_count": 1,
     "metadata": {},
     "output_type": "execute_result"
    }
   ],
   "source": [
    "#Q1. What are the five key concepts of Object-Oriented Programming (OOP)\n",
    "'''ANS      \n",
    "      The five key concepts of Object-Oriented Programming (OOP) are:\n",
    "      1. Encapsulation: This is the bundling of data (attributes) and methods (functions) that operate on the data\n",
    "       into a single unit or class.\n",
    "      2. Abstraction: Abstraction involves simplifying complex systems by modeling classes based on essential\n",
    "       properties and behaviors while hiding unnecessary details.\n",
    "      3. Inheritance: Inheritance allows one class (the child or subclass) to inherit properties and behaviors\n",
    "       from another class (the parent or superclass). This promotes code reusability and establishes a \n",
    "       hierarchical relationship between classes. \n",
    "      4. Polymorphism: Polymorphism enables objects of different classes to be treated as objects of a common superclass.\n",
    "      5. Composition: Composition is a design principle where a class is composed of one or more objects from other classes,\n",
    "       allowing for a flexible and modular approach to building complex systems. '''                "
   ]
  },
  {
   "cell_type": "code",
   "execution_count": 3,
   "metadata": {},
   "outputs": [
    {
     "name": "stdout",
     "output_type": "stream",
     "text": [
      "Car Information: 2020 Toyota Camry\n"
     ]
    }
   ],
   "source": [
    "#Q2.  Write a Python class for a `Car` with attributes for `make`, `model`, and `year`. Include a method to displaythe car's information.\n",
    "'''ANS '''    \n",
    "class Car:\n",
    "    def __init__(self, make, model, year):    #The __init__ method initializes the attributes make, model, and year when a new Car object is created.\n",
    "        self.make = make\n",
    "        self.model = model\n",
    "        self.year = year\n",
    "\n",
    "    def display_info(self):               #The display_info method prints the car's information in a formatted string.\n",
    "        print(f\"Car Information: {self.year} {self.make} {self.model}\")\n",
    "\n",
    "# Example usage\n",
    "my_car = Car(\"Toyota\", \"Camry\", 2020)\n",
    "my_car.display_info()\n"
   ]
  },
  {
   "cell_type": "code",
   "execution_count": 4,
   "metadata": {},
   "outputs": [
    {
     "name": "stdout",
     "output_type": "stream",
     "text": [
      "Pussy says meuw!\n"
     ]
    }
   ],
   "source": [
    "#Q3.  Explain the difference between instance methods and class methods. Provide an example of each.\n",
    "'''ANS    \n",
    "       Instance Methods\n",
    "       Instance methods are functions defined within a class that operate on instances of that class.\n",
    "       They take the instance (self) as the first parameter.\n",
    "       Usage: They are used to access or modify the object's attributes.\n",
    "Example:'''\n",
    "class Cat:\n",
    "    def __init__(self, name):\n",
    "        self.name = name\n",
    "\n",
    "    def bark(self):\n",
    "        return f\"{self.name} says meuw!\"\n",
    "\n",
    "# Creating an instance of Cat\n",
    "my_Cat = Cat(\"Pussy\")\n",
    "print(my_Cat.bark())  \n"
   ]
  },
  {
   "cell_type": "code",
   "execution_count": 6,
   "metadata": {},
   "outputs": [
    {
     "name": "stdout",
     "output_type": "stream",
     "text": [
      "2\n"
     ]
    }
   ],
   "source": [
    "'''   Class Methods\n",
    "      Class methods are functions defined within a class that operate on the class itself rather than on instances of the class.\n",
    "      They take the class (cls) as the first parameter. Class methods are decorated with @classmethod.\n",
    "      Usage: They are often used for factory methods or methods that need to access or modify class-level attributes.\n",
    "Example:'''                     \n",
    "class Dog:\n",
    "    count = 0  # Class attribute to track the number of Dog instances\n",
    "\n",
    "    def __init__(self, name):\n",
    "        self.name = name\n",
    "        Dog.count += 1  # Increment the count whenever a new Dog is created\n",
    "\n",
    "    @classmethod\n",
    "    def get_dog_count(cls):\n",
    "        return cls.count\n",
    "\n",
    "# Creating instances of Dog\n",
    "dog1 = Dog(\"Buddy\")\n",
    "dog2 = Dog(\"Max\")\n",
    "\n",
    "# Calling the class method\n",
    "print(Dog.get_dog_count())  # Output: 2\n"
   ]
  },
  {
   "cell_type": "code",
   "execution_count": 7,
   "metadata": {},
   "outputs": [
    {
     "name": "stdout",
     "output_type": "stream",
     "text": [
      "5\n",
      "15\n",
      "30\n"
     ]
    }
   ],
   "source": [
    "#Q4. How does Python implement method overloading? Give an example.\n",
    "'''ANS                  \n",
    "       In Python,we can define a method that can handle multiple types or numbers of parameters\n",
    "       by using default values or by accepting arbitrary arguments with args and kwargs. \n",
    "       This allows a single method to accommodate various input scenarios, effectively simulating overloading.\n",
    "       Example'''\n",
    "class Calculator:\n",
    "    def add(self, a, b=0, c=0):\n",
    "        return a + b + c\n",
    "\n",
    "# Example usage\n",
    "calc = Calculator()\n",
    "print(calc.add(5))          \n",
    "print(calc.add(5, 10))      \n",
    "print(calc.add(5, 10, 15))  \n"
   ]
  },
  {
   "cell_type": "code",
   "execution_count": 8,
   "metadata": {},
   "outputs": [
    {
     "name": "stdout",
     "output_type": "stream",
     "text": [
      "I am public\n"
     ]
    }
   ],
   "source": [
    "#Q5  What are the three types of access modifiers in Python? How are they denoted?\n",
    "'''ANS \n",
    "      The three main types of access modifiers are\n",
    "      1.Public:\n",
    "      Public members can be accessed from outside the class without any restrictions.\n",
    "      No underscores are used.\n",
    "Example '''\n",
    "class Example:\n",
    "    def __init__(self):\n",
    "        self.public_var = \"I am public\"\n",
    "\n",
    "obj = Example()\n",
    "print(obj.public_var)  \n",
    "\n",
    "\n",
    "\n"
   ]
  },
  {
   "cell_type": "code",
   "execution_count": 9,
   "metadata": {},
   "outputs": [
    {
     "name": "stdout",
     "output_type": "stream",
     "text": [
      "I am protected\n"
     ]
    }
   ],
   "source": [
    "'''Protected:\n",
    "   Protected members are intended to be accessible within the class and its subclasses.\n",
    "   They are not meant to be accessed directly from outside the class hierarchy.\n",
    "   Denotation:- A single underscore (_) precedes the member name.\n",
    "Example:'''\n",
    "class Base:\n",
    "    def __init__(self):\n",
    "        self._protected_var = \"I am protected\"\n",
    "\n",
    "class Derived(Base):\n",
    "    def display(self):\n",
    "        print(self._protected_var)  # Accessing protected member\n",
    "\n",
    "obj = Derived()\n",
    "obj.display() \n"
   ]
  },
  {
   "cell_type": "code",
   "execution_count": 10,
   "metadata": {},
   "outputs": [
    {
     "name": "stdout",
     "output_type": "stream",
     "text": [
      "I am private\n"
     ]
    }
   ],
   "source": [
    "'''Private:\n",
    "   Private members can only be accessed from within the class in which they are defined.\n",
    "   They are not accessible from outside the class, including subclasses.\n",
    "   Denotation: A double underscore (__) precedes the member name.\n",
    "Example'''\n",
    "class Example:\n",
    "    def __init__(self):\n",
    "        self.__private_var = \"I am private\"\n",
    "\n",
    "    def display(self):\n",
    "        print(self.__private_var)  # Accessing private member from within the class\n",
    "\n",
    "obj = Example()\n",
    "obj.display() \n",
    "# print(obj.__private_var)  # This would raise an AttributeError\n"
   ]
  },
  {
   "cell_type": "code",
   "execution_count": 11,
   "metadata": {},
   "outputs": [
    {
     "name": "stdout",
     "output_type": "stream",
     "text": [
      "Method from Parent1\n",
      "Method from Parent2\n",
      "Method from Child\n"
     ]
    }
   ],
   "source": [
    "#Q6. Describe the five types of inheritance in Python. Provide a simple example of multiple inheritance.\n",
    "'''ANS       \n",
    "     The five types of inheritance:-\n",
    "     1. Single Inheritance:\n",
    "     A subclass inherits from one superclass.\n",
    "     2. Multiple Inheritance:\n",
    "     A subclass inherits from more than one superclass.\n",
    "     3. Multilevel Inheritance:\n",
    "     A subclass inherits from a superclass, which in turn inherits from another superclass.\n",
    "     4. Hierarchical Inheritance:\n",
    "     Multiple subclasses inherit from a single superclass.\n",
    "     5. Hybrid Inheritance:\n",
    "     A combination of two or more types of inheritance (single, multiple, multilevel, etc.).\n",
    "EXAMPLE of multiple inheritance'''\n",
    "class Parent1:\n",
    "    def method1(self):\n",
    "        return \"Method from Parent1\"\n",
    "\n",
    "class Parent2:\n",
    "    def method2(self):\n",
    "        return \"Method from Parent2\"\n",
    "\n",
    "class Child(Parent1, Parent2):\n",
    "    def method3(self):\n",
    "        return \"Method from Child\"\n",
    "\n",
    "child = Child()\n",
    "print(child.method1()) \n",
    "print(child.method2()) \n",
    "print(child.method3())  \n"
   ]
  },
  {
   "cell_type": "code",
   "execution_count": 12,
   "metadata": {},
   "outputs": [
    {
     "name": "stdout",
     "output_type": "stream",
     "text": [
      "(<class '__main__.D'>, <class '__main__.B'>, <class '__main__.C'>, <class '__main__.A'>, <class 'object'>)\n",
      "[<class '__main__.D'>, <class '__main__.B'>, <class '__main__.C'>, <class '__main__.A'>, <class 'object'>]\n"
     ]
    }
   ],
   "source": [
    "#Q7  What is the Method Resolution Order (MRO) in Python? How can you retrieve it programmatically?\n",
    "'''ANS \n",
    "      Method Resolution Order (MRO) in Python is the order in which classes are searched when\n",
    "      executing a method or accessing an attribute.his is especially important in the context of \n",
    "      multiple inheritance, where a class can inherit from multiple parent classes. The MRO helps\n",
    "      to determine the order in which classes are traversed to find a method or attribute.\n",
    "      ...We can retrieve the MRO of a class programmatically using the __mro__ attribute or the mro() method. \n",
    "Example:- '''\n",
    "class A:\n",
    "    pass\n",
    "\n",
    "class B(A):\n",
    "    pass\n",
    "\n",
    "class C(A):\n",
    "    pass\n",
    "\n",
    "class D(B, C):\n",
    "    pass\n",
    "\n",
    "# Retrieving MRO\n",
    "print(D.__mro__)    # Using the __mro__ attribute\n",
    "print(D.mro())      # Using the mro() method\n"
   ]
  },
  {
   "cell_type": "code",
   "execution_count": 14,
   "metadata": {},
   "outputs": [
    {
     "name": "stdout",
     "output_type": "stream",
     "text": [
      "Circle Area: 1256.64\n",
      "Rectangle Area: 2400.00\n"
     ]
    }
   ],
   "source": [
    "#Q8. Create an abstract base class `Shape` with an abstract method `area()`.\n",
    "#  Then create two subclasses`Circle` and `Rectangle` that implement the `area()` method.\n",
    "''' ANS   '''               \n",
    "from abc import ABC, abstractmethod\n",
    "import math\n",
    "\n",
    "# Abstract base class\n",
    "class Shape(ABC):\n",
    "    @abstractmethod\n",
    "    def area(self):\n",
    "        pass\n",
    "\n",
    "# Circle subclass\n",
    "class Circle(Shape):\n",
    "    def __init__(self, radius):\n",
    "        self.radius = radius\n",
    "\n",
    "    def area(self):\n",
    "        return math.pi * (self.radius ** 2)\n",
    "\n",
    "# Rectangle subclass\n",
    "class Rectangle(Shape):\n",
    "    def __init__(self, width, height):\n",
    "        self.width = width\n",
    "        self.height = height\n",
    "\n",
    "    def area(self):\n",
    "        return self.width * self.height\n",
    "\n",
    "# Example usage\n",
    "circle = Circle(20)\n",
    "rectangle = Rectangle(40, 60)\n",
    "\n",
    "print(f\"Circle Area: {circle.area():.2f}\")      \n",
    "print(f\"Rectangle Area: {rectangle.area():.2f}\")  \n",
    "\n",
    "         "
   ]
  },
  {
   "cell_type": "code",
   "execution_count": 15,
   "metadata": {},
   "outputs": [
    {
     "name": "stdout",
     "output_type": "stream",
     "text": [
      "Area: 314.16\n",
      "Area: 2400.00\n"
     ]
    }
   ],
   "source": [
    "#Q9. Demonstrate polymorphism by creating a function that can work with different shape objects to calculate\n",
    "# and print their areas.\n",
    "'''ANS  '''           \n",
    "from abc import ABC, abstractmethod\n",
    "import math\n",
    "\n",
    "# Abstract base class\n",
    "class Shape(ABC):\n",
    "    @abstractmethod\n",
    "    def area(self):\n",
    "        pass\n",
    "\n",
    "# Circle subclass\n",
    "class Circle(Shape):\n",
    "    def __init__(self, radius):\n",
    "        self.radius = radius\n",
    "\n",
    "    def area(self):\n",
    "        return math.pi * (self.radius ** 2)\n",
    "\n",
    "# Rectangle subclass\n",
    "class Rectangle(Shape):\n",
    "    def __init__(self, width, height):\n",
    "        self.width = width\n",
    "        self.height = height\n",
    "\n",
    "    def area(self):\n",
    "        return self.width * self.height\n",
    "\n",
    "# Function to calculate and print area of a shape\n",
    "def print_shape_area(shape: Shape):\n",
    "    print(f\"Area: {shape.area():.2f}\")\n",
    "\n",
    "# Example usage\n",
    "circle = Circle(10)\n",
    "rectangle = Rectangle(40, 60)\n",
    "\n",
    "# Demonstrating polymorphism\n",
    "print_shape_area(circle)      \n",
    "print_shape_area(rectangle)   \n",
    "\n"
   ]
  },
  {
   "cell_type": "code",
   "execution_count": 20,
   "metadata": {},
   "outputs": [
    {
     "name": "stdout",
     "output_type": "stream",
     "text": [
      "Account Number: 123456789\n",
      "Initial Balance: RS1000.00\n",
      "Deposited: RS500.00\n",
      "New Balance: RS1500.00\n",
      "Withdrew: RS200.00\n",
      "New Balance: RS1300.00\n",
      "Withdrawal amount must be positive and not exceed current balance.\n"
     ]
    }
   ],
   "source": [
    "#Q10. Implement encapsulation in a `BankAccount` class with private attributes for `balance` and\n",
    "# `account_number`. Include methods for deposit, withdrawal, and balance inquiry.\n",
    "'''ANS '''\n",
    "class BankAccount:\n",
    "    def __init__(self, account_number, initial_balance=0):\n",
    "        self.__account_number = account_number  # Private attribute\n",
    "        self.__balance = initial_balance         # Private attribute\n",
    "\n",
    "    def deposit(self, amount):\n",
    "        if amount > 0:\n",
    "            self.__balance += amount\n",
    "            print(f\"Deposited: RS{amount:.2f}\")\n",
    "        else:\n",
    "            print(\"Deposit amount must be positive.\")\n",
    "\n",
    "    def withdraw(self, amount):\n",
    "        if 0 < amount <= self.__balance:\n",
    "            self.__balance -= amount\n",
    "            print(f\"Withdrew: RS{amount:.2f}\")\n",
    "        else:\n",
    "            print(\"Withdrawal amount must be positive and not exceed current balance.\")\n",
    "\n",
    "    def get_balance(self):\n",
    "        return self.__balance\n",
    "\n",
    "    def get_account_number(self):\n",
    "        return self.__account_number\n",
    "\n",
    "# Example usage\n",
    "account = BankAccount(\"123456789\", 1000)\n",
    "\n",
    "print(f\"Account Number: {account.get_account_number()}\")\n",
    "print(f\"Initial Balance: RS{account.get_balance():.2f}\")\n",
    "\n",
    "account.deposit(500)\n",
    "print(f\"New Balance: RS{account.get_balance():.2f}\")\n",
    "\n",
    "account.withdraw(200)\n",
    "print(f\"New Balance: RS{account.get_balance():.2f}\")\n",
    "\n",
    "account.withdraw(1500)  # This should trigger a warning\n"
   ]
  },
  {
   "cell_type": "code",
   "execution_count": 23,
   "metadata": {},
   "outputs": [
    {
     "name": "stdout",
     "output_type": "stream",
     "text": [
      "Vector(2, 3)\n",
      "Vector(4, 5)\n",
      "Vector(6, 8)\n"
     ]
    },
    {
     "data": {
      "text/plain": [
       "'What These Methods Allow us to Do\\n   Custom String Representation: By overriding __str__, We can control how your objects are represented as strings,\\n    making them more informative and user-friendly when printed.'"
      ]
     },
     "execution_count": 23,
     "metadata": {},
     "output_type": "execute_result"
    }
   ],
   "source": [
    "#Q11. Write a class that overrides the `__str__` and `__add__` magic methods. What will these methods allow you to do?\n",
    "'''ANS      \n",
    "     We can override the __str__ and __add__ magic methods in a class to customize its string representation\n",
    "     and define how instances of the class can be added together'''\n",
    "class Vector:\n",
    "    def __init__(self, x, y):\n",
    "        self.x = x\n",
    "        self.y = y\n",
    "\n",
    "    def __str__(self):\n",
    "        return f\"Vector({self.x}, {self.y})\"\n",
    "\n",
    "    def __add__(self, other):\n",
    "        if isinstance(other, Vector):\n",
    "            return Vector(self.x + other.x, self.y + other.y)\n",
    "        return NotImplemented\n",
    "\n",
    "# Example usage\n",
    "v1 = Vector(2, 3)\n",
    "v2 = Vector(4, 5)\n",
    "\n",
    "# Using __str__ to print the object\n",
    "print(v1)  \n",
    "print(v2)  \n",
    "\n",
    "# Using __add__ to add two Vector objects\n",
    "v3 = v1 + v2\n",
    "print(v3)  \n",
    "'''What These Methods Allow us to Do\n",
    "   Custom String Representation: By overriding __str__, We can control how your objects are represented as strings,\n",
    "    making them more informative and user-friendly when printed.'''\n"
   ]
  },
  {
   "cell_type": "code",
   "execution_count": 24,
   "metadata": {},
   "outputs": [
    {
     "name": "stdout",
     "output_type": "stream",
     "text": [
      "Execution time for 'example_function': 0.1802 seconds\n",
      "Result: 333332833333500000\n"
     ]
    }
   ],
   "source": [
    "#Q12. Create a decorator that measures and prints the execution time of a function.\n",
    "'''ANS'''              \n",
    "import time\n",
    "\n",
    "def measure_execution_time(func):\n",
    "    \"\"\"Decorator to measure the execution time of a function.\"\"\"\n",
    "    def wrapper(*args, **kwargs):\n",
    "        start_time = time.time()  # Record the start time\n",
    "        result = func(*args, **kwargs)  # Call the original function\n",
    "        end_time = time.time()  # Record the end time\n",
    "        execution_time = end_time - start_time  # Calculate the execution time\n",
    "        print(f\"Execution time for '{func.__name__}': {execution_time:.4f} seconds\")\n",
    "        return result  # Return the result of the function\n",
    "    return wrapper\n",
    "\n",
    "# Example usage\n",
    "@measure_execution_time\n",
    "def example_function(n):\n",
    "    \"\"\"A function that simulates a time-consuming process.\"\"\"\n",
    "    total = 0\n",
    "    for i in range(n):\n",
    "        total += i ** 2  \n",
    "    return total\n",
    "\n",
    "# Call the decorated function\n",
    "result = example_function(1000000)\n",
    "print(f\"Result: {result}\")\n"
   ]
  },
  {
   "cell_type": "code",
   "execution_count": 1,
   "metadata": {},
   "outputs": [
    {
     "name": "stdout",
     "output_type": "stream",
     "text": [
      "Hello from B\n"
     ]
    }
   ],
   "source": [
    "#Q13. Explain the concept of the Diamond Problem in multiple inheritance. How does Python resolve it?\n",
    "'''ANS           \n",
    "      The Diamond Problem occurs in multiple inheritance when a class inherits from two classes that both inherit from a common superclass.\n",
    "      This creates a diamond-shaped class hierarchy. The problem arises when a method or attribute is called on the subclass\n",
    "     SOLUtion:--   Python uses the C3 linearization algorithm  to resolve this ambiguity.\n",
    "      This algorithm ensures a consistent method resolution order (MRO) that respects the inheritance order\n",
    "       and the order in which the classes are defined.\n",
    "       Example for diamond problem'''             \n",
    "class A:\n",
    "    def greet(self):\n",
    "        return \"Hello from A\"\n",
    "\n",
    "class B(A):\n",
    "    def greet(self):\n",
    "        return \"Hello from B\"\n",
    "\n",
    "class C(A):\n",
    "    def greet(self):\n",
    "        return \"Hello from C\"\n",
    "\n",
    "class D(B, C):\n",
    "    pass\n",
    "\n",
    "# Create an instance of D\n",
    "d = D()\n",
    "print(d.greet())  \n"
   ]
  },
  {
   "cell_type": "code",
   "execution_count": 2,
   "metadata": {},
   "outputs": [
    {
     "name": "stdout",
     "output_type": "stream",
     "text": [
      "Number of instances created: 3\n"
     ]
    }
   ],
   "source": [
    "#Q14. Write a class method that keeps track of the number of instances created from a class\n",
    "'''ANS'''\n",
    "class InstanceCounter:\n",
    "    instance_count = 0  # Class variable to keep track of instance count\n",
    "\n",
    "    def __init__(self):\n",
    "        InstanceCounter.instance_count += 1  # Increment the count whenever a new instance is created\n",
    "\n",
    "    @classmethod\n",
    "    def get_instance_count(cls):\n",
    "        \"\"\"Class method to return the number of instances created.\"\"\"\n",
    "        return cls.instance_count\n",
    "\n",
    "# Example usage\n",
    "if __name__ == \"__main__\":\n",
    "    obj1 = InstanceCounter()\n",
    "    obj2 = InstanceCounter()\n",
    "    obj3 = InstanceCounter()\n",
    "\n",
    "    print(f\"Number of instances created: {InstanceCounter.get_instance_count()}\")  \n"
   ]
  },
  {
   "cell_type": "code",
   "execution_count": 3,
   "metadata": {},
   "outputs": [
    {
     "name": "stdout",
     "output_type": "stream",
     "text": [
      "2024 is a leap year: True\n",
      "1900 is a leap year: False\n",
      "2000 is a leap year: True\n"
     ]
    }
   ],
   "source": [
    "#Q15. Implement a static method in a class that checks if a given year is a leap year\n",
    "'''ANS'''             \n",
    "class YearUtils:\n",
    "    @staticmethod\n",
    "    def is_leap_year(year):\n",
    "        \"\"\"Check if a given year is a leap year.\"\"\"\n",
    "        if year % 4 == 0:\n",
    "            if year % 100 == 0:\n",
    "                if year % 400 == 0:\n",
    "                    return True  # Divisible by 400\n",
    "                else:\n",
    "                    return False  # Divisible by 100 but not by 400\n",
    "            else:\n",
    "                return True  # Divisible by 4 but not by 100\n",
    "        else:\n",
    "            return False  # Not divisible by 4\n",
    "\n",
    "# Example usage\n",
    "if __name__ == \"__main__\":\n",
    "    year = 2024\n",
    "    print(f\"{year} is a leap year: {YearUtils.is_leap_year(year)}\")\n",
    "\n",
    "    year = 1900\n",
    "    print(f\"{year} is a leap year: {YearUtils.is_leap_year(year)}\")  \n",
    "\n",
    "    year = 2000\n",
    "    print(f\"{year} is a leap year: {YearUtils.is_leap_year(year)}\")  \n"
   ]
  },
  {
   "cell_type": "code",
   "execution_count": null,
   "metadata": {},
   "outputs": [],
   "source": []
  }
 ],
 "metadata": {
  "kernelspec": {
   "display_name": "Python 3",
   "language": "python",
   "name": "python3"
  },
  "language_info": {
   "codemirror_mode": {
    "name": "ipython",
    "version": 3
   },
   "file_extension": ".py",
   "mimetype": "text/x-python",
   "name": "python",
   "nbconvert_exporter": "python",
   "pygments_lexer": "ipython3",
   "version": "3.11.5"
  }
 },
 "nbformat": 4,
 "nbformat_minor": 2
}
